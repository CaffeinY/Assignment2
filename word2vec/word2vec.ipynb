{
 "cells": [
  {
   "cell_type": "code",
   "execution_count": 52,
   "metadata": {},
   "outputs": [],
   "source": [
    "import gzip\n",
    "import math\n",
    "import string\n",
    "from collections import defaultdict\n",
    "from sklearn import linear_model\n",
    "from sklearn.manifold import TSNE\n"
   ]
  },
  {
   "cell_type": "code",
   "execution_count": 53,
   "metadata": {},
   "outputs": [],
   "source": [
    "import warnings\n",
    "warnings.filterwarnings(\"ignore\")"
   ]
  },
  {
   "cell_type": "code",
   "execution_count": 54,
   "metadata": {},
   "outputs": [],
   "source": [
    "def assertFloat(x):\n",
    "    assert type(float(x)) == float\n",
    "\n",
    "def assertFloatList(items, N):\n",
    "    assert len(items) == N\n",
    "    assert [type(float(x)) for x in items] == [float]*N"
   ]
  },
  {
   "cell_type": "code",
   "execution_count": 55,
   "metadata": {},
   "outputs": [],
   "source": [
    "dataset = []\n",
    "\n",
    "f = gzip.open(\"reviews_Beauty_5.json.gz\")\n",
    "for l in f:\n",
    "    d = eval(l)\n",
    "    dataset.append(d)\n",
    "    if len(dataset) >= 20000:\n",
    "        break\n",
    "dataset = [d for d in dataset if d[\"helpful\"][1] != 0]\n",
    "f.close()"
   ]
  },
  {
   "cell_type": "code",
   "execution_count": 56,
   "metadata": {},
   "outputs": [
    {
     "data": {
      "text/plain": [
       "{'reviewerID': 'A1YJEY40YUW4SE',\n",
       " 'asin': '7806397051',\n",
       " 'reviewerName': 'Andrea',\n",
       " 'helpful': [3, 4],\n",
       " 'reviewText': 'Very oily and creamy. Not at all what I expected... ordered this to try to highlight and contour and it just looked awful!!! Plus, took FOREVER to arrive.',\n",
       " 'overall': 1.0,\n",
       " 'summary': \"Don't waste your money\",\n",
       " 'unixReviewTime': 1391040000,\n",
       " 'reviewTime': '01 30, 2014'}"
      ]
     },
     "execution_count": 56,
     "metadata": {},
     "output_type": "execute_result"
    }
   ],
   "source": [
    "def MSE(predictions,y):\n",
    "    predict = zip(predictions,y)\n",
    "    sum = 0;\n",
    "    for p,r in predict:\n",
    "        sum += math.pow(abs(p-r),2)\n",
    "    return sum / len(y)\n",
    "dataset[0]"
   ]
  },
  {
   "cell_type": "code",
   "execution_count": 57,
   "metadata": {},
   "outputs": [],
   "source": [
    "from gensim.models import Word2Vec"
   ]
  },
  {
   "cell_type": "markdown",
   "metadata": {},
   "source": []
  },
  {
   "cell_type": "code",
   "execution_count": 58,
   "metadata": {},
   "outputs": [
    {
     "data": {
      "text/plain": [
       "[('contour', 0.8028538823127747),\n",
       " ('cheekbones', 0.7677353024482727),\n",
       " ('bronze', 0.7503701448440552),\n",
       " ('highlighting', 0.7485389709472656),\n",
       " ('taupe', 0.7454499006271362),\n",
       " ('fuschia', 0.7246878147125244),\n",
       " ('sunkissed', 0.7245644927024841),\n",
       " ('browns', 0.7236576676368713),\n",
       " ('burgundy', 0.7187554836273193),\n",
       " ('auburn', 0.716253936290741)]"
      ]
     },
     "execution_count": 58,
     "metadata": {},
     "output_type": "execute_result"
    }
   ],
   "source": [
    "\n",
    "\n",
    "f = gzip.open(\"reviews_Beauty_5.json.gz\")\n",
    "reviews = []\n",
    "\n",
    "for l in f:\n",
    "    d = eval(l)\n",
    "    reviews.append(d['reviewText'])\n",
    "    if len(reviews) == 50000:\n",
    "        break\n",
    "\n",
    "reviewTokens = []\n",
    "\n",
    "punctuation = set(string.punctuation)\n",
    "for r in reviews:\n",
    "    r = ''.join([c for c in r.lower() if not c in punctuation])\n",
    "    tokens = []\n",
    "    for w in r.split():\n",
    "        tokens.append(w)\n",
    "    reviewTokens.append(tokens)\n",
    "\n",
    "model = Word2Vec(reviewTokens,\n",
    "                 min_count=5, # Words/items with fewer instances are discarded\n",
    "                 #size=10, # Model dimensionality\n",
    "                 window=3, # Window size\n",
    "                 sg=1) # Skip-gram model\n",
    "\n",
    "#model.wv['this']\n",
    "\n",
    "model.wv.similar_by_word(\"highlight\")\n"
   ]
  }
 ],
 "metadata": {
  "kernelspec": {
   "display_name": "Python 3.10.5 64-bit",
   "language": "python",
   "name": "python3"
  },
  "language_info": {
   "codemirror_mode": {
    "name": "ipython",
    "version": 3
   },
   "file_extension": ".py",
   "mimetype": "text/x-python",
   "name": "python",
   "nbconvert_exporter": "python",
   "pygments_lexer": "ipython3",
   "version": "3.10.5"
  },
  "orig_nbformat": 4,
  "vscode": {
   "interpreter": {
    "hash": "369f2c481f4da34e4445cda3fffd2e751bd1c4d706f27375911949ba6bb62e1c"
   }
  }
 },
 "nbformat": 4,
 "nbformat_minor": 2
}
