{
 "cells": [
  {
   "cell_type": "code",
   "execution_count": 25,
   "metadata": {},
   "outputs": [],
   "source": [
    "import gensim\n",
    "\n",
    "\n",
    "def read_corpus(reviews, tokens_only=False):\n",
    "    for i, line in enumerate(reviews):\n",
    "        if tokens_only:\n",
    "            yield gensim.utils.simple_preprocess(line)\n",
    "        else:\n",
    "            # For training data, add tags\n",
    "            yield gensim.models.doc2vec.TaggedDocument(gensim.utils.simple_preprocess(line), [i])\n"
   ]
  },
  {
   "cell_type": "code",
   "execution_count": 26,
   "metadata": {},
   "outputs": [],
   "source": [
    "import gzip\n",
    "f = gzip.open(\"reviews_Beauty_5.json.gz\")\n",
    "reviews = []\n",
    "\n",
    "for l in f:\n",
    "    d = eval(l)\n",
    "    reviews.append(d['reviewText'])\n",
    "    if len(reviews) == 50000:\n",
    "        break\n",
    "\n",
    "\n",
    "train_corpus = list(read_corpus(reviews[:30000]))\n",
    "test_corpus = list(read_corpus(reviews[30000:], tokens_only=True))"
   ]
  },
  {
   "cell_type": "code",
   "execution_count": 27,
   "metadata": {},
   "outputs": [],
   "source": [
    "from gensim.models import Doc2Vec\n",
    "\n",
    "model = gensim.models.doc2vec.Doc2Vec(vector_size=50, min_count=2, epochs=100)\n",
    "model.build_vocab(train_corpus) \n",
    "model.train(train_corpus, total_examples=model.corpus_count,epochs=model.epochs)\n",
    "\n"
   ]
  },
  {
   "cell_type": "code",
   "execution_count": 28,
   "metadata": {},
   "outputs": [
    {
     "name": "stdout",
     "output_type": "stream",
     "text": [
      "[(0, 0.9664036631584167), (5496, 0.654357373714447), (26482, 0.650442361831665), (15571, 0.6437737345695496), (25624, 0.6262351870536804), (28961, 0.6235198974609375), (21556, 0.6199095249176025), (14045, 0.6128912568092346), (7581, 0.6115442514419556), (17174, 0.6082520484924316)]\n",
      "Very oily and creamy. Not at all what I expected... ordered this to try to highlight and contour and it just looked awful!!! Plus, took FOREVER to arrive.\n",
      "I HAVE ORDERED THIS MANY TIMES AND JUST LOVE IT.  I WOUL.D ALSO HIGHLY RECOMMEND IT TO OTHERS, GREAT PRODUCT\n",
      "Just as expected\n",
      "i have been using for about 13 years I always get compliments. love it. buy it. great investment. great everyday color.\n",
      "Perfect for dirty blonde hair, love, love, love it!! Will keep continuing to buy when I'm out of what I have now.\n",
      "The title of the review tells it all, it is by far the best self tanner I have ever used. Not orange not streaky just perfect.\n",
      "I love Olay - I try other more expensive products and I go back to Olay.\n",
      "This lotion has a light, pleasant scent.  It leaves my skin feeling so soft the next morning - not oily at all - just soft and supple.\n",
      "This is just what I need for tired, puffy eyes.  It feels so soothing and cool.  Love it, and will purchase again!\n",
      "JUST GOT IT. NEVER TRIED IT BEFORE. GREAT BUY.. I'M VERY PLEASED WITH THIS. SMELL GOOD AND LAST FOR A WHILE. (4-5 HRS)\n"
     ]
    },
    {
     "name": "stderr",
     "output_type": "stream",
     "text": [
      "C:\\Users\\guany\\AppData\\Local\\Temp\\ipykernel_32184\\2445987358.py:4: DeprecationWarning: Call to deprecated `docvecs` (The `docvecs` property has been renamed `dv`.).\n",
      "  sims = model.docvecs.most_similar([inferred_vector])\n"
     ]
    }
   ],
   "source": [
    "#需要安装 pip install testfixtures\n",
    "\n",
    "inferred_vector = model.infer_vector(train_corpus[0].words)\n",
    "sims = model.docvecs.most_similar([inferred_vector])\n",
    "print(sims)\n",
    "\n",
    "print(reviews[0])\n",
    "print(reviews[21206])\n",
    "print(reviews[28561])\n",
    "print(reviews[5168])\n",
    "print(reviews[18800])\n",
    "print(reviews[14045])\n",
    "print(reviews[3680])\n",
    "print(reviews[6590])\n",
    "print(reviews[27614])\n",
    "print(reviews[16665])"
   ]
  },
  {
   "cell_type": "code",
   "execution_count": 29,
   "metadata": {},
   "outputs": [],
   "source": [
    "models = [\n",
    "    # PV-DBOW (Skip-Gram equivalent of Word2Vec)\n",
    "    Doc2Vec(dm=0, dbow_words=1, vector_size=200, window=8, min_count=10, epochs=50),\n",
    "    \n",
    "    # PV-DM w/average (CBOW equivalent of Word2Vec)\n",
    "    Doc2Vec(dm=1, dm_mean=1, vector_size=200, window=8, min_count=10, epochs =50),\n",
    "]\n",
    "\n",
    "documents = train_corpus\n",
    "models[0].build_vocab(documents)\n",
    "models[1].reset_from(models[0])\n",
    "\n",
    "for model in models:\n",
    "   model.train(documents, total_examples=model.corpus_count, epochs=model.epochs)\n",
    "\n"
   ]
  },
  {
   "cell_type": "code",
   "execution_count": 30,
   "metadata": {},
   "outputs": [
    {
     "name": "stdout",
     "output_type": "stream",
     "text": [
      "[(0, 0.8953219652175903), (6804, 0.4646955728530884), (28869, 0.46257513761520386), (3050, 0.4533193111419678), (20757, 0.4519912898540497), (17881, 0.4288741648197174), (1462, 0.42322108149528503), (8070, 0.41500720381736755), (28961, 0.409655898809433), (28010, 0.4063774347305298)]\n",
      "[(0, 0.9050559401512146), (14045, 0.42165786027908325), (3680, 0.41847890615463257), (5970, 0.4160499572753906), (28561, 0.4142948389053345), (16315, 0.4098333418369293), (6590, 0.4080885350704193), (7413, 0.4073047637939453), (21206, 0.4066210389137268), (27614, 0.4052833914756775)]\n"
     ]
    },
    {
     "name": "stderr",
     "output_type": "stream",
     "text": [
      "C:\\Users\\guany\\AppData\\Local\\Temp\\ipykernel_32184\\3960372065.py:6: DeprecationWarning: Call to deprecated `docvecs` (The `docvecs` property has been renamed `dv`.).\n",
      "  sims2 = new_model.models[0].docvecs.most_similar([inferred_vector])\n",
      "C:\\Users\\guany\\AppData\\Local\\Temp\\ipykernel_32184\\3960372065.py:10: DeprecationWarning: Call to deprecated `docvecs` (The `docvecs` property has been renamed `dv`.).\n",
      "  sims3 = new_model.models[1].docvecs.most_similar([inferred_vector])\n"
     ]
    }
   ],
   "source": [
    "from gensim.test.test_doc2vec import ConcatenatedDoc2Vec\n",
    "new_model = ConcatenatedDoc2Vec((models[0], models[1]))\n",
    "\n",
    "# model 1\n",
    "inferred_vector =new_model.models[0].infer_vector(train_corpus[0].words)\n",
    "sims2 = new_model.models[0].docvecs.most_similar([inferred_vector])\n",
    "print(sims2)\n",
    "# model 2\n",
    "inferred_vector =new_model.models[1].infer_vector(train_corpus[0].words)\n",
    "sims3 = new_model.models[1].docvecs.most_similar([inferred_vector])\n",
    "print(sims3)\n"
   ]
  },
  {
   "cell_type": "code",
   "execution_count": null,
   "metadata": {},
   "outputs": [],
   "source": []
  }
 ],
 "metadata": {
  "kernelspec": {
   "display_name": "Python 3.10.5 64-bit",
   "language": "python",
   "name": "python3"
  },
  "language_info": {
   "codemirror_mode": {
    "name": "ipython",
    "version": 3
   },
   "file_extension": ".py",
   "mimetype": "text/x-python",
   "name": "python",
   "nbconvert_exporter": "python",
   "pygments_lexer": "ipython3",
   "version": "3.10.5"
  },
  "orig_nbformat": 4,
  "vscode": {
   "interpreter": {
    "hash": "369f2c481f4da34e4445cda3fffd2e751bd1c4d706f27375911949ba6bb62e1c"
   }
  }
 },
 "nbformat": 4,
 "nbformat_minor": 2
}
